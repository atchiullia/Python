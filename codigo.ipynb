{
 "cells": [
  {
   "cell_type": "markdown",
   "metadata": {},
   "source": [
    "## Instalar Beautiful Soup"
   ]
  },
  {
   "cell_type": "code",
   "execution_count": 27,
   "metadata": {},
   "outputs": [
    {
     "name": "stdout",
     "output_type": "stream",
     "text": [
      "Defaulting to user installation because normal site-packages is not writeable\n",
      "Collecting beautifulsoup4\n",
      "  Downloading beautifulsoup4-4.12.3-py3-none-any.whl (147 kB)\n",
      "\u001b[K     |████████████████████████████████| 147 kB 2.7 MB/s eta 0:00:01\n",
      "\u001b[?25hCollecting soupsieve>1.2\n",
      "  Downloading soupsieve-2.6-py3-none-any.whl (36 kB)\n",
      "Installing collected packages: soupsieve, beautifulsoup4\n",
      "Successfully installed beautifulsoup4-4.12.3 soupsieve-2.6\n",
      "\u001b[33mWARNING: You are using pip version 21.2.4; however, version 24.2 is available.\n",
      "You should consider upgrading via the '/Library/Developer/CommandLineTools/usr/bin/python3 -m pip install --upgrade pip' command.\u001b[0m\n",
      "Note: you may need to restart the kernel to use updated packages.\n"
     ]
    }
   ],
   "source": [
    "pip install beautifulsoup4"
   ]
  },
  {
   "cell_type": "markdown",
   "metadata": {},
   "source": [
    "## Encontrar título"
   ]
  },
  {
   "cell_type": "code",
   "execution_count": 39,
   "metadata": {},
   "outputs": [
    {
     "name": "stdout",
     "output_type": "stream",
     "text": [
      "<title> Todos os Cursos Hashtag Treinamentos</title>\n"
     ]
    }
   ],
   "source": [
    "from bs4 import BeautifulSoup\n",
    "with open (\"Pagina Hashtag.html\", \"r\", encoding = \"utf-8\") as arquivo:\n",
    "    site = BeautifulSoup(arquivo, \"html.parser\")\n",
    "\n",
    "\n",
    "#print(site.prettify())\n",
    "\n",
    "titulo = site.find(\"title\")\n",
    "print(titulo)"
   ]
  },
  {
   "cell_type": "markdown",
   "metadata": {},
   "source": [
    "## Encontrar h1"
   ]
  },
  {
   "cell_type": "code",
   "execution_count": 40,
   "metadata": {},
   "outputs": [
    {
     "name": "stdout",
     "output_type": "stream",
     "text": [
      "<h1 id=\"conheca-todos-os-cursos-da-hashtag-treinamentos\"><span style=\"color: #ff6600;\"><span class=\"has-inline-color\" style=\"color:#112e61\">Conheça todos os Cursos da Hashtag Treinamentos</span></span></h1>\n"
     ]
    }
   ],
   "source": [
    "h1 = site.find(\"h1\")\n",
    "print(h1)"
   ]
  },
  {
   "cell_type": "markdown",
   "metadata": {},
   "source": [
    "## Encontrar nav"
   ]
  },
  {
   "cell_type": "code",
   "execution_count": 42,
   "metadata": {},
   "outputs": [
    {
     "name": "stdout",
     "output_type": "stream",
     "text": [
      "<nav class=\"navbar navbar-expand-md py-0\">\n",
      " <button aria-controls=\"navbarsExampleDefault\" aria-expanded=\"false\" aria-label=\"Toggle navigation\" class=\"navbar-toggler\" data-target=\"#navbarsExampleDefault\" data-toggle=\"collapse\" type=\"button\">\n",
      "  <span class=\"navbar-toggler-icon\">\n",
      "  </span>\n",
      " </button>\n",
      " <div class=\"collapse navbar-collapse\" id=\"navbarsExampleDefault\">\n",
      "  <div class=\"collapse navbar-collapse\" id=\"navbarSupportedContent\">\n",
      "   <ul class=\"navbar-nav ml-auto\" id=\"menu-principal\">\n",
      "    <li class=\"menu-item menu-item-type-post_type menu-item-object-page menu-item-2191 nav-item\" id=\"menu-item-2191\" itemscope=\"itemscope\" itemtype=\"https://www.schema.org/SiteNavigationElement\">\n",
      "     <a class=\"nav-link\" href=\"https://www.hashtagtreinamentos.com/curso-de-excel-online\" title=\"Curso Excel Online\">\n",
      "      Curso Excel Online\n",
      "     </a>\n",
      "    </li>\n",
      "    <li class=\"menu-item menu-item-type-post_type menu-item-object-page menu-item-6293 nav-item\" id=\"menu-item-6293\" itemscope=\"itemscope\" itemtype=\"https://www.schema.org/SiteNavigationElement\">\n",
      "     <a class=\"nav-link\" href=\"https://www.hashtagtreinamentos.com/curso-power-bi\" title=\"Curso Power BI Online\">\n",
      "      Curso Power BI Online\n",
      "     </a>\n",
      "    </li>\n",
      "    <li class=\"menu-item menu-item-type-post_type menu-item-object-page menu-item-9706 nav-item\" id=\"menu-item-9706\" itemscope=\"itemscope\" itemtype=\"https://www.schema.org/SiteNavigationElement\">\n",
      "     <a class=\"nav-link\" href=\"https://www.hashtagtreinamentos.com/curso-python\" title=\"Curso de Python Online\">\n",
      "      Curso de Python Online\n",
      "     </a>\n",
      "    </li>\n",
      "    <li class=\"menu-item menu-item-type-custom menu-item-object-custom menu-item-has-children dropdown menu-item-16313 nav-item\" id=\"menu-item-16313\" itemscope=\"itemscope\" itemtype=\"https://www.schema.org/SiteNavigationElement\">\n",
      "     <a aria-expanded=\"false\" aria-haspopup=\"true\" class=\"dropdown-toggle nav-link disabled\" href=\"https://www.hashtagtreinamentos.com/todos-os-cursos#\" id=\"menu-item-dropdown-16313\" title=\"Outros Cursos\">\n",
      "      Outros Cursos\n",
      "     </a>\n",
      "     <ul aria-labelledby=\"menu-item-dropdown-16313\" class=\"dropdown-menu\" role=\"menu\">\n",
      "      <li class=\"menu-item menu-item-type-post_type menu-item-object-page menu-item-17042 nav-item\" id=\"menu-item-17042\" itemscope=\"itemscope\" itemtype=\"https://www.schema.org/SiteNavigationElement\">\n",
      "       <a class=\"dropdown-item\" href=\"https://www.hashtagtreinamentos.com/curso-sql\" title=\"Curso de SQL\">\n",
      "        Curso de SQL\n",
      "       </a>\n",
      "      </li>\n",
      "      <li class=\"menu-item menu-item-type-post_type menu-item-object-page menu-item-6686 nav-item\" id=\"menu-item-6686\" itemscope=\"itemscope\" itemtype=\"https://www.schema.org/SiteNavigationElement\">\n",
      "       <a class=\"dropdown-item\" href=\"https://www.hashtagtreinamentos.com/curso-vba-excel\" title=\"Curso de VBA Excel\">\n",
      "        Curso de VBA Excel\n",
      "       </a>\n",
      "      </li>\n",
      "      <li class=\"menu-item menu-item-type-post_type menu-item-object-page menu-item-19806 nav-item\" id=\"menu-item-19806\" itemscope=\"itemscope\" itemtype=\"https://www.schema.org/SiteNavigationElement\">\n",
      "       <a class=\"dropdown-item\" href=\"https://www.hashtagtreinamentos.com/curso-powerpoint\" title=\"Curso de PowerPoint Online\">\n",
      "        Curso de PowerPoint Online\n",
      "       </a>\n",
      "      </li>\n",
      "      <li class=\"menu-item menu-item-type-custom menu-item-object-custom menu-item-6302 nav-item\" id=\"menu-item-6302\" itemscope=\"itemscope\" itemtype=\"https://www.schema.org/SiteNavigationElement\">\n",
      "       <a class=\"dropdown-item\" href=\"https://www.hashtagtreinamentos.com/todos-os-cursos-hashtag-treinamentos\" title=\"Todos os Cursos\">\n",
      "        Todos os Cursos\n",
      "       </a>\n",
      "      </li>\n",
      "     </ul>\n",
      "    </li>\n",
      "    <li class=\"menu-item menu-item-type-post_type menu-item-object-page menu-item-10581 nav-item\" id=\"menu-item-10581\" itemscope=\"itemscope\" itemtype=\"https://www.schema.org/SiteNavigationElement\">\n",
      "     <a class=\"nav-link\" href=\"https://www.hashtagtreinamentos.com/treinamentos-corporativos\" title=\"Treinamentos para Empresas\">\n",
      "      Treinamentos para Empresas\n",
      "     </a>\n",
      "    </li>\n",
      "    <li class=\"menu-item menu-item-type-post_type menu-item-object-page menu-item-58 nav-item\" id=\"menu-item-58\" itemscope=\"itemscope\" itemtype=\"https://www.schema.org/SiteNavigationElement\">\n",
      "     <a class=\"nav-link\" href=\"https://www.hashtagtreinamentos.com/blog\" title=\"Blog\">\n",
      "      Blog\n",
      "     </a>\n",
      "    </li>\n",
      "    <li class=\"menu-item menu-item-type-post_type menu-item-object-page menu-item-221 nav-item\" id=\"menu-item-221\" itemscope=\"itemscope\" itemtype=\"https://www.schema.org/SiteNavigationElement\">\n",
      "     <a class=\"nav-link\" href=\"https://www.hashtagtreinamentos.com/contato\" title=\"Contato\">\n",
      "      Contato\n",
      "     </a>\n",
      "    </li>\n",
      "   </ul>\n",
      "  </div>\n",
      " </div>\n",
      "</nav>\n",
      "\n"
     ]
    }
   ],
   "source": [
    "barra_navegacao = site.find(\"nav\")\n",
    "print(barra_navegacao.prettify())"
   ]
  },
  {
   "cell_type": "markdown",
   "metadata": {},
   "source": [
    "## Encontrar a (do href)"
   ]
  },
  {
   "cell_type": "code",
   "execution_count": 48,
   "metadata": {},
   "outputs": [
    {
     "name": "stdout",
     "output_type": "stream",
     "text": [
      "[<a class=\"nav-link\" href=\"https://www.hashtagtreinamentos.com/curso-de-excel-online\" title=\"Curso Excel Online\">Curso Excel Online</a>, <a class=\"nav-link\" href=\"https://www.hashtagtreinamentos.com/curso-power-bi\" title=\"Curso Power BI Online\">Curso Power BI Online</a>, <a class=\"nav-link\" href=\"https://www.hashtagtreinamentos.com/curso-python\" title=\"Curso de Python Online\">Curso de Python Online</a>, <a aria-expanded=\"false\" aria-haspopup=\"true\" class=\"dropdown-toggle nav-link disabled\" href=\"https://www.hashtagtreinamentos.com/todos-os-cursos#\" id=\"menu-item-dropdown-16313\" title=\"Outros Cursos\">Outros Cursos</a>, <a class=\"dropdown-item\" href=\"https://www.hashtagtreinamentos.com/curso-sql\" title=\"Curso de SQL\">Curso de SQL</a>, <a class=\"dropdown-item\" href=\"https://www.hashtagtreinamentos.com/curso-vba-excel\" title=\"Curso de VBA Excel\">Curso de VBA Excel</a>, <a class=\"dropdown-item\" href=\"https://www.hashtagtreinamentos.com/curso-powerpoint\" title=\"Curso de PowerPoint Online\">Curso de PowerPoint Online</a>, <a class=\"dropdown-item\" href=\"https://www.hashtagtreinamentos.com/todos-os-cursos-hashtag-treinamentos\" title=\"Todos os Cursos\">Todos os Cursos</a>, <a class=\"nav-link\" href=\"https://www.hashtagtreinamentos.com/treinamentos-corporativos\" title=\"Treinamentos para Empresas\">Treinamentos para Empresas</a>, <a class=\"nav-link\" href=\"https://www.hashtagtreinamentos.com/blog\" title=\"Blog\">Blog</a>, <a class=\"nav-link\" href=\"https://www.hashtagtreinamentos.com/contato\" title=\"Contato\">Contato</a>]\n"
     ]
    }
   ],
   "source": [
    "links = barra_navegacao.find_all(\"a\")\n",
    "print(links)"
   ]
  },
  {
   "cell_type": "markdown",
   "metadata": {},
   "source": [
    "## Encontrar links"
   ]
  },
  {
   "cell_type": "code",
   "execution_count": 55,
   "metadata": {},
   "outputs": [
    {
     "name": "stdout",
     "output_type": "stream",
     "text": [
      "<a class=\"nav-link\" href=\"https://www.hashtagtreinamentos.com/curso-de-excel-online\" title=\"Curso Excel Online\">Curso Excel Online</a>\n",
      "{'title': 'Curso Excel Online', 'href': 'https://www.hashtagtreinamentos.com/curso-de-excel-online', 'class': ['nav-link']}\n",
      "https://www.hashtagtreinamentos.com/curso-de-excel-online\n",
      "https://www.hashtagtreinamentos.com/curso-power-bi\n",
      "https://www.hashtagtreinamentos.com/curso-python\n",
      "https://www.hashtagtreinamentos.com/todos-os-cursos#\n",
      "https://www.hashtagtreinamentos.com/curso-sql\n",
      "https://www.hashtagtreinamentos.com/curso-vba-excel\n",
      "https://www.hashtagtreinamentos.com/curso-powerpoint\n",
      "https://www.hashtagtreinamentos.com/todos-os-cursos-hashtag-treinamentos\n",
      "https://www.hashtagtreinamentos.com/treinamentos-corporativos\n",
      "https://www.hashtagtreinamentos.com/blog\n",
      "https://www.hashtagtreinamentos.com/contato\n"
     ]
    }
   ],
   "source": [
    "#print(links[0])\n",
    "#print(links[0].attrs)\n",
    "\n",
    "url_link = links[0][\"href\"]\n",
    "\n",
    "for link in links:\n",
    "    print(link[\"href\"])"
   ]
  },
  {
   "cell_type": "markdown",
   "metadata": {},
   "source": [
    "## Encontrar elementos da barra de navegação"
   ]
  },
  {
   "cell_type": "code",
   "execution_count": 56,
   "metadata": {},
   "outputs": [
    {
     "name": "stdout",
     "output_type": "stream",
     "text": [
      "[<button aria-controls=\"navbarsExampleDefault\" aria-expanded=\"false\" aria-label=\"Toggle navigation\" class=\"navbar-toggler\" data-target=\"#navbarsExampleDefault\" data-toggle=\"collapse\" type=\"button\"> <span class=\"navbar-toggler-icon\"></span> </button>, <a class=\"nav-link\" href=\"https://www.hashtagtreinamentos.com/curso-de-excel-online\" title=\"Curso Excel Online\">Curso Excel Online</a>, <a class=\"nav-link\" href=\"https://www.hashtagtreinamentos.com/curso-power-bi\" title=\"Curso Power BI Online\">Curso Power BI Online</a>, <a class=\"nav-link\" href=\"https://www.hashtagtreinamentos.com/curso-python\" title=\"Curso de Python Online\">Curso de Python Online</a>, <a aria-expanded=\"false\" aria-haspopup=\"true\" class=\"dropdown-toggle nav-link disabled\" href=\"https://www.hashtagtreinamentos.com/todos-os-cursos#\" id=\"menu-item-dropdown-16313\" title=\"Outros Cursos\">Outros Cursos</a>, <a class=\"dropdown-item\" href=\"https://www.hashtagtreinamentos.com/curso-sql\" title=\"Curso de SQL\">Curso de SQL</a>, <a class=\"dropdown-item\" href=\"https://www.hashtagtreinamentos.com/curso-vba-excel\" title=\"Curso de VBA Excel\">Curso de VBA Excel</a>, <a class=\"dropdown-item\" href=\"https://www.hashtagtreinamentos.com/curso-powerpoint\" title=\"Curso de PowerPoint Online\">Curso de PowerPoint Online</a>, <a class=\"dropdown-item\" href=\"https://www.hashtagtreinamentos.com/todos-os-cursos-hashtag-treinamentos\" title=\"Todos os Cursos\">Todos os Cursos</a>, <a class=\"nav-link\" href=\"https://www.hashtagtreinamentos.com/treinamentos-corporativos\" title=\"Treinamentos para Empresas\">Treinamentos para Empresas</a>, <a class=\"nav-link\" href=\"https://www.hashtagtreinamentos.com/blog\" title=\"Blog\">Blog</a>, <a class=\"nav-link\" href=\"https://www.hashtagtreinamentos.com/contato\" title=\"Contato\">Contato</a>]\n"
     ]
    }
   ],
   "source": [
    "elementos_nav = barra_navegacao.find_all([\"a\", \"button\"])\n",
    "\n",
    "print(elementos_nav)"
   ]
  },
  {
   "cell_type": "markdown",
   "metadata": {},
   "source": [
    "## Find por classe"
   ]
  },
  {
   "cell_type": "code",
   "execution_count": 57,
   "metadata": {},
   "outputs": [
    {
     "name": "stdout",
     "output_type": "stream",
     "text": [
      "<h2 class=\"h1 tit centro\">Todos os Cursos da Hashtag Treinamentos</h2>\n"
     ]
    }
   ],
   "source": [
    "subtitulo = site.find(class_=\"tit\")\n",
    "print(subtitulo)"
   ]
  },
  {
   "cell_type": "markdown",
   "metadata": {},
   "source": [
    "## Find por ID"
   ]
  },
  {
   "cell_type": "code",
   "execution_count": 58,
   "metadata": {},
   "outputs": [
    {
     "name": "stdout",
     "output_type": "stream",
     "text": [
      "<header class=\"\" id=\"header\" role=\"banner\"><div class=\"container-fluid\"><div class=\"row\"><div class=\"logo col-md-2 col-6 align-self-center\"> <a class=\"custom-logo-link\" href=\"https://www.hashtagtreinamentos.com/\" rel=\"home\"><img alt=\"Hashtag Treinamentos\" class=\"custom-logo lazyloaded\" data-ll-status=\"loaded\" height=\"73\" sizes=\"(max-width: 153px) 100vw, 153px\" src=\"./Pagina Hashtag_files/logo_nova.png.webp\" srcset=\"https://www.hashtagtreinamentos.com/wp-content/uploads/2019/04/logo_nova.png.webp 153w,https://www.hashtagtreinamentos.com/wp-content/uploads/2019/04/logo_nova-150x73.png.webp 150w\" width=\"153\"/><noscript><img alt=\"Hashtag Treinamentos\" class=\"custom-logo\" height=\"73\" sizes=\"(max-width: 153px) 100vw, 153px\" src=\"https://www.hashtagtreinamentos.com/wp-content/uploads/2019/04/logo_nova.png.webp\" srcset=\"https://www.hashtagtreinamentos.com/wp-content/uploads/2019/04/logo_nova.png.webp 153w,https://www.hashtagtreinamentos.com/wp-content/uploads/2019/04/logo_nova-150x73.png.webp 150w\" width=\"153\"/></noscript></a></div><div class=\"col-md-10 align-self-center d-md-block d-none text-right\"><div class=\"menu_geral\"><div class=\"navbar navbar-default d-table ml-auto mt-0 py-0\" id=\"main-navigation\"><nav class=\"navbar navbar-expand-md py-0\"> <button aria-controls=\"navbarsExampleDefault\" aria-expanded=\"false\" aria-label=\"Toggle navigation\" class=\"navbar-toggler\" data-target=\"#navbarsExampleDefault\" data-toggle=\"collapse\" type=\"button\"> <span class=\"navbar-toggler-icon\"></span> </button><div class=\"collapse navbar-collapse\" id=\"navbarsExampleDefault\"><div class=\"collapse navbar-collapse\" id=\"navbarSupportedContent\"><ul class=\"navbar-nav ml-auto\" id=\"menu-principal\"><li class=\"menu-item menu-item-type-post_type menu-item-object-page menu-item-2191 nav-item\" id=\"menu-item-2191\" itemscope=\"itemscope\" itemtype=\"https://www.schema.org/SiteNavigationElement\"><a class=\"nav-link\" href=\"https://www.hashtagtreinamentos.com/curso-de-excel-online\" title=\"Curso Excel Online\">Curso Excel Online</a></li><li class=\"menu-item menu-item-type-post_type menu-item-object-page menu-item-6293 nav-item\" id=\"menu-item-6293\" itemscope=\"itemscope\" itemtype=\"https://www.schema.org/SiteNavigationElement\"><a class=\"nav-link\" href=\"https://www.hashtagtreinamentos.com/curso-power-bi\" title=\"Curso Power BI Online\">Curso Power BI Online</a></li><li class=\"menu-item menu-item-type-post_type menu-item-object-page menu-item-9706 nav-item\" id=\"menu-item-9706\" itemscope=\"itemscope\" itemtype=\"https://www.schema.org/SiteNavigationElement\"><a class=\"nav-link\" href=\"https://www.hashtagtreinamentos.com/curso-python\" title=\"Curso de Python Online\">Curso de Python Online</a></li><li class=\"menu-item menu-item-type-custom menu-item-object-custom menu-item-has-children dropdown menu-item-16313 nav-item\" id=\"menu-item-16313\" itemscope=\"itemscope\" itemtype=\"https://www.schema.org/SiteNavigationElement\"><a aria-expanded=\"false\" aria-haspopup=\"true\" class=\"dropdown-toggle nav-link disabled\" href=\"https://www.hashtagtreinamentos.com/todos-os-cursos#\" id=\"menu-item-dropdown-16313\" title=\"Outros Cursos\">Outros Cursos</a><ul aria-labelledby=\"menu-item-dropdown-16313\" class=\"dropdown-menu\" role=\"menu\"><li class=\"menu-item menu-item-type-post_type menu-item-object-page menu-item-17042 nav-item\" id=\"menu-item-17042\" itemscope=\"itemscope\" itemtype=\"https://www.schema.org/SiteNavigationElement\"><a class=\"dropdown-item\" href=\"https://www.hashtagtreinamentos.com/curso-sql\" title=\"Curso de SQL\">Curso de SQL</a></li><li class=\"menu-item menu-item-type-post_type menu-item-object-page menu-item-6686 nav-item\" id=\"menu-item-6686\" itemscope=\"itemscope\" itemtype=\"https://www.schema.org/SiteNavigationElement\"><a class=\"dropdown-item\" href=\"https://www.hashtagtreinamentos.com/curso-vba-excel\" title=\"Curso de VBA Excel\">Curso de VBA Excel</a></li><li class=\"menu-item menu-item-type-post_type menu-item-object-page menu-item-19806 nav-item\" id=\"menu-item-19806\" itemscope=\"itemscope\" itemtype=\"https://www.schema.org/SiteNavigationElement\"><a class=\"dropdown-item\" href=\"https://www.hashtagtreinamentos.com/curso-powerpoint\" title=\"Curso de PowerPoint Online\">Curso de PowerPoint Online</a></li><li class=\"menu-item menu-item-type-custom menu-item-object-custom menu-item-6302 nav-item\" id=\"menu-item-6302\" itemscope=\"itemscope\" itemtype=\"https://www.schema.org/SiteNavigationElement\"><a class=\"dropdown-item\" href=\"https://www.hashtagtreinamentos.com/todos-os-cursos-hashtag-treinamentos\" title=\"Todos os Cursos\">Todos os Cursos</a></li></ul></li><li class=\"menu-item menu-item-type-post_type menu-item-object-page menu-item-10581 nav-item\" id=\"menu-item-10581\" itemscope=\"itemscope\" itemtype=\"https://www.schema.org/SiteNavigationElement\"><a class=\"nav-link\" href=\"https://www.hashtagtreinamentos.com/treinamentos-corporativos\" title=\"Treinamentos para Empresas\">Treinamentos para Empresas</a></li><li class=\"menu-item menu-item-type-post_type menu-item-object-page menu-item-58 nav-item\" id=\"menu-item-58\" itemscope=\"itemscope\" itemtype=\"https://www.schema.org/SiteNavigationElement\"><a class=\"nav-link\" href=\"https://www.hashtagtreinamentos.com/blog\" title=\"Blog\">Blog</a></li><li class=\"menu-item menu-item-type-post_type menu-item-object-page menu-item-221 nav-item\" id=\"menu-item-221\" itemscope=\"itemscope\" itemtype=\"https://www.schema.org/SiteNavigationElement\"><a class=\"nav-link\" href=\"https://www.hashtagtreinamentos.com/contato\" title=\"Contato\">Contato</a></li></ul></div></div></nav></div></div><div class=\"social\"> <a class=\"mr-3\" href=\"https://www.facebook.com/hashtagtreinamentos/\" target=\"_blank\"><i class=\"fab fa-facebook-f\"></i></a> <a class=\"mr-3\" href=\"https://www.youtube.com/channel/UCw0leRmeaX7R_9BDd3TvCzg\" target=\"_blank\"><i class=\"fab fa-youtube\"></i></a> <a href=\"https://www.instagram.com/hashtagtreinamentos/\" target=\"_blank\"><i class=\"fab fa-instagram\"></i></a></div></div><div class=\"col-6 d-md-none\"><div class=\"fullnavBtn\" id=\"toggle\"> <span class=\"top\"></span> <span class=\"middle\"></span> <span class=\"bottom\"></span></div><div id=\"fullnav\"><nav class=\"navbar navbar-dark pr-lg-0\"><div class=\"collapsed navbar-collapse\" id=\"navbarSupportedContent\"><ul class=\"navbar-nav mx-auto\" id=\"menu-principal-1\"><li class=\"menu-item menu-item-type-post_type menu-item-object-page menu-item-2191 nav-item\" itemscope=\"itemscope\" itemtype=\"https://www.schema.org/SiteNavigationElement\"><a class=\"nav-link\" href=\"https://www.hashtagtreinamentos.com/curso-de-excel-online\" title=\"Curso Excel Online\">Curso Excel Online</a></li><li class=\"menu-item menu-item-type-post_type menu-item-object-page menu-item-6293 nav-item\" itemscope=\"itemscope\" itemtype=\"https://www.schema.org/SiteNavigationElement\"><a class=\"nav-link\" href=\"https://www.hashtagtreinamentos.com/curso-power-bi\" title=\"Curso Power BI Online\">Curso Power BI Online</a></li><li class=\"menu-item menu-item-type-post_type menu-item-object-page menu-item-9706 nav-item\" itemscope=\"itemscope\" itemtype=\"https://www.schema.org/SiteNavigationElement\"><a class=\"nav-link\" href=\"https://www.hashtagtreinamentos.com/curso-python\" title=\"Curso de Python Online\">Curso de Python Online</a></li><li class=\"menu-item menu-item-type-custom menu-item-object-custom menu-item-has-children dropdown menu-item-16313 nav-item\" itemscope=\"itemscope\" itemtype=\"https://www.schema.org/SiteNavigationElement\"><a aria-expanded=\"false\" aria-haspopup=\"true\" class=\"dropdown-toggle nav-link disabled\" href=\"https://www.hashtagtreinamentos.com/todos-os-cursos#\" id=\"menu-item-dropdown-16313\" title=\"Outros Cursos\">Outros Cursos</a><ul aria-labelledby=\"menu-item-dropdown-16313\" class=\"dropdown-menu\" role=\"menu\"><li class=\"menu-item menu-item-type-post_type menu-item-object-page menu-item-17042 nav-item\" itemscope=\"itemscope\" itemtype=\"https://www.schema.org/SiteNavigationElement\"><a class=\"dropdown-item\" href=\"https://www.hashtagtreinamentos.com/curso-sql\" title=\"Curso de SQL\">Curso de SQL</a></li><li class=\"menu-item menu-item-type-post_type menu-item-object-page menu-item-6686 nav-item\" itemscope=\"itemscope\" itemtype=\"https://www.schema.org/SiteNavigationElement\"><a class=\"dropdown-item\" href=\"https://www.hashtagtreinamentos.com/curso-vba-excel\" title=\"Curso de VBA Excel\">Curso de VBA Excel</a></li><li class=\"menu-item menu-item-type-post_type menu-item-object-page menu-item-19806 nav-item\" itemscope=\"itemscope\" itemtype=\"https://www.schema.org/SiteNavigationElement\"><a class=\"dropdown-item\" href=\"https://www.hashtagtreinamentos.com/curso-powerpoint\" title=\"Curso de PowerPoint Online\">Curso de PowerPoint Online</a></li><li class=\"menu-item menu-item-type-custom menu-item-object-custom menu-item-6302 nav-item\" itemscope=\"itemscope\" itemtype=\"https://www.schema.org/SiteNavigationElement\"><a class=\"dropdown-item\" href=\"https://www.hashtagtreinamentos.com/todos-os-cursos-hashtag-treinamentos\" title=\"Todos os Cursos\">Todos os Cursos</a></li></ul></li><li class=\"menu-item menu-item-type-post_type menu-item-object-page menu-item-10581 nav-item\" itemscope=\"itemscope\" itemtype=\"https://www.schema.org/SiteNavigationElement\"><a class=\"nav-link\" href=\"https://www.hashtagtreinamentos.com/treinamentos-corporativos\" title=\"Treinamentos para Empresas\">Treinamentos para Empresas</a></li><li class=\"menu-item menu-item-type-post_type menu-item-object-page menu-item-58 nav-item\" itemscope=\"itemscope\" itemtype=\"https://www.schema.org/SiteNavigationElement\"><a class=\"nav-link\" href=\"https://www.hashtagtreinamentos.com/blog\" title=\"Blog\">Blog</a></li><li class=\"menu-item menu-item-type-post_type menu-item-object-page menu-item-221 nav-item\" itemscope=\"itemscope\" itemtype=\"https://www.schema.org/SiteNavigationElement\"><a class=\"nav-link\" href=\"https://www.hashtagtreinamentos.com/contato\" title=\"Contato\">Contato</a></li></ul></div></nav><div class=\"social\"> <a class=\"mr-3\" href=\"https://www.facebook.com/hashtagtreinamentos/\" target=\"_blank\"><i class=\"fab fa-facebook-f\"></i></a> <a class=\"mr-3\" href=\"https://www.youtube.com/channel/UCw0leRmeaX7R_9BDd3TvCzg\" target=\"_blank\"><i class=\"fab fa-youtube\"></i></a> <a href=\"https://www.instagram.com/hashtagtreinamentos/\" target=\"_blank\"><i class=\"fab fa-instagram\"></i></a></div></div></div></div></div></header>\n"
     ]
    }
   ],
   "source": [
    "cabecalho = site.find(id=\"header\")\n",
    "print(cabecalho)"
   ]
  }
 ],
 "metadata": {
  "kernelspec": {
   "display_name": "Python 3",
   "language": "python",
   "name": "python3"
  },
  "language_info": {
   "codemirror_mode": {
    "name": "ipython",
    "version": 3
   },
   "file_extension": ".py",
   "mimetype": "text/x-python",
   "name": "python",
   "nbconvert_exporter": "python",
   "pygments_lexer": "ipython3",
   "version": "3.9.6"
  }
 },
 "nbformat": 4,
 "nbformat_minor": 2
}
